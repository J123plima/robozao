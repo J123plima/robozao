{
 "cells": [
  {
   "cell_type": "markdown",
   "id": "d2805b5d",
   "metadata": {},
   "source": [
    "# bloco de notas"
   ]
  },
  {
   "cell_type": "code",
   "execution_count": 1,
   "id": "8f1bd74e",
   "metadata": {},
   "outputs": [],
   "source": [
    "\n",
    "import pyautogui as aut\n",
    "aut.hotkey(\"Win\" , \"r\")\n",
    "\n",
    "aut.write(\"notepad\" , interval=0.2)\n",
    "\n",
    "aut.sleep(1)\n",
    "\n",
    "aut.press(\"Enter\")\n",
    "\n",
    "aut.sleep(1)\n",
    "\n",
    "aut.moveTo(234,304)\n",
    "\n",
    "aut.click()\n",
    "\n",
    "aut.sleep(1)\n",
    "\n",
    "aut.write(\"Leonardo e GAY\" , interval=0.2)"
   ]
  },
  {
   "cell_type": "code",
   "execution_count": 5,
   "id": "d665dc12",
   "metadata": {},
   "outputs": [],
   "source": [
    "import pyautogui as aut\n",
    "aut.mouseInfo()\n"
   ]
  },
  {
   "cell_type": "markdown",
   "id": "1eacccb3",
   "metadata": {},
   "source": [
    "# calculadora"
   ]
  },
  {
   "cell_type": "code",
   "execution_count": 9,
   "id": "99f94955",
   "metadata": {},
   "outputs": [],
   "source": [
    "import pyautogui as aut\n",
    "aut.hotkey(\"Win\" , \"r\")\n",
    "\n",
    "aut.write(\"calc.exe\" , interval=0.2)\n",
    "aut.press(\"enter\")\n",
    "aut.sleep(1)\n",
    "aut.write(\"7+9\" , interval=0.3)\n",
    "aut.sleep(1)\n",
    "aut.press(\"enter\")"
   ]
  },
  {
   "cell_type": "markdown",
   "id": "8b65b474",
   "metadata": {},
   "source": [
    "# paint"
   ]
  },
  {
   "cell_type": "code",
   "execution_count": null,
   "id": "e53c87e9",
   "metadata": {},
   "outputs": [],
   "source": [
    "import pyautogui as aut\n",
    "aut.press(\"Win\")\n",
    "\n",
    "aut.write(\"paint\" , interval=0.2)\n",
    "\n",
    "aut.sleep(1)\n",
    "\n",
    "aut.press(\"Enter\")\n",
    "\n"
   ]
  }
 ],
 "metadata": {
  "kernelspec": {
   "display_name": "Python 3",
   "language": "python",
   "name": "python3"
  },
  "language_info": {
   "codemirror_mode": {
    "name": "ipython",
    "version": 3
   },
   "file_extension": ".py",
   "mimetype": "text/x-python",
   "name": "python",
   "nbconvert_exporter": "python",
   "pygments_lexer": "ipython3",
   "version": "3.13.2"
  }
 },
 "nbformat": 4,
 "nbformat_minor": 5
}
